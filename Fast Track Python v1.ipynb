{
 "cells": [
  {
   "cell_type": "code",
   "execution_count": 2,
   "id": "6564e8ef",
   "metadata": {},
   "outputs": [
    {
     "name": "stdout",
     "output_type": "stream",
     "text": [
      "[1, 3, 5, 9]\n"
     ]
    }
   ],
   "source": [
    "a=5\n",
    "b=[1,3,5,9]\n",
    "print(b)"
   ]
  },
  {
   "cell_type": "code",
   "execution_count": 3,
   "id": "28cb8987",
   "metadata": {},
   "outputs": [
    {
     "data": {
      "text/plain": [
       "[1, 3, 5, 9, 1, 3, 5, 9]"
      ]
     },
     "execution_count": 3,
     "metadata": {},
     "output_type": "execute_result"
    }
   ],
   "source": [
    "b*2"
   ]
  },
  {
   "cell_type": "code",
   "execution_count": 4,
   "id": "443963d9",
   "metadata": {},
   "outputs": [
    {
     "data": {
      "text/plain": [
       "list"
      ]
     },
     "execution_count": 4,
     "metadata": {},
     "output_type": "execute_result"
    }
   ],
   "source": [
    "type(b)"
   ]
  },
  {
   "cell_type": "code",
   "execution_count": 5,
   "id": "89eb039d",
   "metadata": {},
   "outputs": [
    {
     "name": "stdout",
     "output_type": "stream",
     "text": [
      "[2, 6, 10, 18]\n"
     ]
    }
   ],
   "source": [
    "for i in range(4):\n",
    "    b[i]=b[i]*2\n",
    "print(b)"
   ]
  },
  {
   "cell_type": "code",
   "execution_count": 1,
   "id": "5cf185f7",
   "metadata": {},
   "outputs": [],
   "source": [
    "import numpy as np"
   ]
  },
  {
   "cell_type": "code",
   "execution_count": 7,
   "id": "4cdd50bd",
   "metadata": {},
   "outputs": [
    {
     "data": {
      "text/plain": [
       "array([ 2,  6, 10, 18])"
      ]
     },
     "execution_count": 7,
     "metadata": {},
     "output_type": "execute_result"
    }
   ],
   "source": [
    "x = np.array([1,3,5,9])\n",
    "x*2"
   ]
  },
  {
   "cell_type": "code",
   "execution_count": 8,
   "id": "e3b03183",
   "metadata": {},
   "outputs": [
    {
     "data": {
      "text/plain": [
       "numpy.ndarray"
      ]
     },
     "execution_count": 8,
     "metadata": {},
     "output_type": "execute_result"
    }
   ],
   "source": [
    "type(x)"
   ]
  },
  {
   "cell_type": "code",
   "execution_count": 9,
   "id": "a0664101",
   "metadata": {},
   "outputs": [
    {
     "data": {
      "text/plain": [
       "array([[2, 0],\n",
       "       [1, 0],\n",
       "       [2, 2],\n",
       "       [0, 1]])"
      ]
     },
     "execution_count": 9,
     "metadata": {},
     "output_type": "execute_result"
    }
   ],
   "source": [
    "y = np.array([ [2,0],[1,0],[2,2],[0,1]])\n",
    "y"
   ]
  },
  {
   "cell_type": "code",
   "execution_count": 10,
   "id": "ea7fc70c",
   "metadata": {},
   "outputs": [
    {
     "data": {
      "text/plain": [
       "array([15, 19])"
      ]
     },
     "execution_count": 10,
     "metadata": {},
     "output_type": "execute_result"
    }
   ],
   "source": [
    "np.matmul(x,y)"
   ]
  },
  {
   "cell_type": "code",
   "execution_count": 11,
   "id": "83cea871",
   "metadata": {},
   "outputs": [
    {
     "data": {
      "text/plain": [
       "array([15, 19])"
      ]
     },
     "execution_count": 11,
     "metadata": {},
     "output_type": "execute_result"
    }
   ],
   "source": [
    "x@y"
   ]
  },
  {
   "cell_type": "code",
   "execution_count": 12,
   "id": "835ba39e",
   "metadata": {},
   "outputs": [
    {
     "data": {
      "text/plain": [
       "array([1, 3, 5, 9])"
      ]
     },
     "execution_count": 12,
     "metadata": {},
     "output_type": "execute_result"
    }
   ],
   "source": [
    "x"
   ]
  },
  {
   "cell_type": "code",
   "execution_count": 12,
   "id": "2821e264",
   "metadata": {},
   "outputs": [
    {
     "data": {
      "text/plain": [
       "array([ 2,  3, 10,  0])"
      ]
     },
     "execution_count": 12,
     "metadata": {},
     "output_type": "execute_result"
    }
   ],
   "source": [
    "x * y[:,0]"
   ]
  },
  {
   "cell_type": "code",
   "execution_count": 13,
   "id": "f452b07f",
   "metadata": {},
   "outputs": [
    {
     "data": {
      "text/plain": [
       "array([ 2,  3, 10,  0])"
      ]
     },
     "execution_count": 13,
     "metadata": {},
     "output_type": "execute_result"
    }
   ],
   "source": [
    "np.multiply(x,y[:,0])"
   ]
  },
  {
   "cell_type": "markdown",
   "id": "2b19f329",
   "metadata": {},
   "source": [
    "# range"
   ]
  },
  {
   "cell_type": "code",
   "execution_count": 16,
   "id": "ac57e656",
   "metadata": {},
   "outputs": [
    {
     "data": {
      "text/plain": [
       "range(0, 9, 2)"
      ]
     },
     "execution_count": 16,
     "metadata": {},
     "output_type": "execute_result"
    }
   ],
   "source": [
    "range(0,9,2)"
   ]
  },
  {
   "cell_type": "code",
   "execution_count": 14,
   "id": "6a551693",
   "metadata": {},
   "outputs": [
    {
     "data": {
      "text/plain": [
       "{0, 2, 4, 6, 8}"
      ]
     },
     "execution_count": 14,
     "metadata": {},
     "output_type": "execute_result"
    }
   ],
   "source": [
    "set(range(0,9,2))"
   ]
  },
  {
   "cell_type": "code",
   "execution_count": 15,
   "id": "fe01f7fa",
   "metadata": {
    "scrolled": false
   },
   "outputs": [
    {
     "data": {
      "text/plain": [
       "[0, 2, 4, 6, 8]"
      ]
     },
     "execution_count": 15,
     "metadata": {},
     "output_type": "execute_result"
    }
   ],
   "source": [
    "list(range(0,9,2))"
   ]
  },
  {
   "cell_type": "code",
   "execution_count": 17,
   "id": "4445aa02",
   "metadata": {},
   "outputs": [
    {
     "data": {
      "text/plain": [
       "array([0, 1, 2, 3, 4, 5, 6, 7, 8])"
      ]
     },
     "execution_count": 17,
     "metadata": {},
     "output_type": "execute_result"
    }
   ],
   "source": [
    "np.arange(9)"
   ]
  },
  {
   "cell_type": "code",
   "execution_count": 18,
   "id": "9de1765e",
   "metadata": {},
   "outputs": [
    {
     "data": {
      "text/plain": [
       "array([0, 1, 2, 3, 4, 5, 6, 7, 8])"
      ]
     },
     "execution_count": 18,
     "metadata": {},
     "output_type": "execute_result"
    }
   ],
   "source": [
    "np.arange(0,9)"
   ]
  },
  {
   "cell_type": "code",
   "execution_count": 19,
   "id": "034f668d",
   "metadata": {},
   "outputs": [
    {
     "data": {
      "text/plain": [
       "array([0, 2, 4, 6, 8])"
      ]
     },
     "execution_count": 19,
     "metadata": {},
     "output_type": "execute_result"
    }
   ],
   "source": [
    "np.arange(0,9,2)"
   ]
  },
  {
   "cell_type": "markdown",
   "id": "18ad0eb6",
   "metadata": {},
   "source": [
    "# VECTORS & MATRICES"
   ]
  },
  {
   "cell_type": "code",
   "execution_count": 20,
   "id": "be4f6675",
   "metadata": {},
   "outputs": [
    {
     "data": {
      "text/plain": [
       "array([[8, 8, 8, 8],\n",
       "       [8, 8, 8, 8],\n",
       "       [8, 8, 8, 8]])"
      ]
     },
     "execution_count": 20,
     "metadata": {},
     "output_type": "execute_result"
    }
   ],
   "source": [
    "np.full((3,4), 8)"
   ]
  },
  {
   "cell_type": "code",
   "execution_count": 21,
   "id": "9d557085",
   "metadata": {
    "scrolled": true
   },
   "outputs": [
    {
     "data": {
      "text/plain": [
       "array([[0., 0., 0., 0.],\n",
       "       [0., 0., 0., 0.],\n",
       "       [0., 0., 0., 0.]], dtype=float32)"
      ]
     },
     "execution_count": 21,
     "metadata": {},
     "output_type": "execute_result"
    }
   ],
   "source": [
    "np.zeros((3,4),dtype=np.float32)"
   ]
  },
  {
   "cell_type": "code",
   "execution_count": 22,
   "id": "b472f0a2",
   "metadata": {},
   "outputs": [
    {
     "data": {
      "text/plain": [
       "array([[1., 1., 1., 1.],\n",
       "       [1., 1., 1., 1.],\n",
       "       [1., 1., 1., 1.]], dtype=float32)"
      ]
     },
     "execution_count": 22,
     "metadata": {},
     "output_type": "execute_result"
    }
   ],
   "source": [
    "np.ones((3,4),dtype=np.float32)"
   ]
  },
  {
   "cell_type": "code",
   "execution_count": 4,
   "id": "1e9ef3f9",
   "metadata": {},
   "outputs": [
    {
     "name": "stderr",
     "output_type": "stream",
     "text": [
      "C:\\Users\\mhozc\\AppData\\Local\\Temp/ipykernel_5668/2096666695.py:2: RuntimeWarning: divide by zero encountered in true_divide\n",
      "  x = x / 0\n"
     ]
    },
    {
     "data": {
      "text/plain": [
       "array([[inf, inf, inf, inf],\n",
       "       [inf, inf, inf, inf],\n",
       "       [inf, inf, inf, inf]], dtype=float32)"
      ]
     },
     "execution_count": 4,
     "metadata": {},
     "output_type": "execute_result"
    }
   ],
   "source": [
    "x = np.ones((3,4),dtype=np.float32)\n",
    "x = x / 0\n",
    "x"
   ]
  },
  {
   "cell_type": "code",
   "execution_count": 5,
   "id": "5de54b19",
   "metadata": {},
   "outputs": [
    {
     "data": {
      "text/plain": [
       "array([[-inf, 100.,  inf,  inf],\n",
       "       [ inf,  inf,  inf,  inf],\n",
       "       [ inf,  inf,  inf,  inf]], dtype=float32)"
      ]
     },
     "execution_count": 5,
     "metadata": {},
     "output_type": "execute_result"
    }
   ],
   "source": [
    "x[0,0] = -x[0,0]\n",
    "x[0,1] = 100\n",
    "x"
   ]
  },
  {
   "cell_type": "code",
   "execution_count": 23,
   "id": "cfdff5f5",
   "metadata": {},
   "outputs": [
    {
     "data": {
      "text/plain": [
       "array([[ True, False,  True,  True],\n",
       "       [ True,  True,  True,  True],\n",
       "       [ True,  True,  True,  True]])"
      ]
     },
     "execution_count": 23,
     "metadata": {},
     "output_type": "execute_result"
    }
   ],
   "source": [
    "np.isinf(x)"
   ]
  },
  {
   "cell_type": "code",
   "execution_count": 7,
   "id": "fbdcaa81",
   "metadata": {
    "scrolled": true
   },
   "outputs": [
    {
     "data": {
      "text/plain": [
       "array([[999., 100., 999., 999.],\n",
       "       [999., 999., 999., 999.],\n",
       "       [999., 999., 999., 999.]], dtype=float32)"
      ]
     },
     "execution_count": 7,
     "metadata": {},
     "output_type": "execute_result"
    }
   ],
   "source": [
    "BigM = 999\n",
    "np.where(np.isinf(x),BigM,x)"
   ]
  },
  {
   "cell_type": "code",
   "execution_count": 8,
   "id": "d5dadac3",
   "metadata": {},
   "outputs": [],
   "source": [
    "x = np.where(np.isinf(x),BigM,x)"
   ]
  },
  {
   "cell_type": "code",
   "execution_count": 9,
   "id": "f0488ab3",
   "metadata": {},
   "outputs": [
    {
     "data": {
      "text/plain": [
       "999.0"
      ]
     },
     "execution_count": 9,
     "metadata": {},
     "output_type": "execute_result"
    }
   ],
   "source": [
    "x.max()"
   ]
  },
  {
   "cell_type": "code",
   "execution_count": 10,
   "id": "33a42258",
   "metadata": {},
   "outputs": [
    {
     "data": {
      "text/plain": [
       "1000"
      ]
     },
     "execution_count": 10,
     "metadata": {},
     "output_type": "execute_result"
    }
   ],
   "source": [
    "np.maximum(3,1000)"
   ]
  },
  {
   "cell_type": "code",
   "execution_count": 11,
   "id": "cd3acc74",
   "metadata": {
    "scrolled": true
   },
   "outputs": [
    {
     "data": {
      "text/plain": [
       "array([[1000., 1000., 1000., 1000.],\n",
       "       [1000., 1000., 1000., 1000.],\n",
       "       [1000., 1000., 1000., 1000.]], dtype=float32)"
      ]
     },
     "execution_count": 11,
     "metadata": {},
     "output_type": "execute_result"
    }
   ],
   "source": [
    "np.maximum(x,1000)"
   ]
  },
  {
   "cell_type": "code",
   "execution_count": 12,
   "id": "b3439f37",
   "metadata": {},
   "outputs": [
    {
     "data": {
      "text/plain": [
       "array([[500., 100., 500., 500.],\n",
       "       [500., 500., 500., 500.],\n",
       "       [500., 500., 500., 500.]], dtype=float32)"
      ]
     },
     "execution_count": 12,
     "metadata": {},
     "output_type": "execute_result"
    }
   ],
   "source": [
    "np.minimum(x,500)"
   ]
  },
  {
   "cell_type": "code",
   "execution_count": 13,
   "id": "359186ae",
   "metadata": {},
   "outputs": [
    {
     "data": {
      "text/plain": [
       "array([[999., 500., 999., 999.],\n",
       "       [999., 999., 999., 999.],\n",
       "       [999., 999., 999., 999.]], dtype=float32)"
      ]
     },
     "execution_count": 13,
     "metadata": {},
     "output_type": "execute_result"
    }
   ],
   "source": [
    "np.maximum(x,500)"
   ]
  },
  {
   "cell_type": "code",
   "execution_count": 14,
   "id": "1ce13d24",
   "metadata": {},
   "outputs": [
    {
     "data": {
      "text/plain": [
       "array([999., 100., 999., 999., 999., 999., 999., 999., 999., 999., 999.,\n",
       "       999.], dtype=float32)"
      ]
     },
     "execution_count": 14,
     "metadata": {},
     "output_type": "execute_result"
    }
   ],
   "source": [
    "np.reshape(x,-1)"
   ]
  },
  {
   "cell_type": "code",
   "execution_count": 15,
   "id": "8a94d3ba",
   "metadata": {},
   "outputs": [
    {
     "data": {
      "text/plain": [
       "array([100., 999.], dtype=float32)"
      ]
     },
     "execution_count": 15,
     "metadata": {},
     "output_type": "execute_result"
    }
   ],
   "source": [
    "np.unique(x)"
   ]
  },
  {
   "cell_type": "code",
   "execution_count": 32,
   "id": "7aa1c718",
   "metadata": {
    "scrolled": true
   },
   "outputs": [
    {
     "data": {
      "text/plain": [
       "array([[6.906755 , 4.6051702, 6.906755 , 6.906755 ],\n",
       "       [6.906755 , 6.906755 , 6.906755 , 6.906755 ],\n",
       "       [6.906755 , 6.906755 , 6.906755 , 6.906755 ]], dtype=float32)"
      ]
     },
     "execution_count": 32,
     "metadata": {},
     "output_type": "execute_result"
    }
   ],
   "source": [
    "np.log(x)"
   ]
  },
  {
   "cell_type": "code",
   "execution_count": 16,
   "id": "0fade405",
   "metadata": {
    "scrolled": true
   },
   "outputs": [
    {
     "data": {
      "text/plain": [
       "array([[2.9995656, 2.       , 2.9995656, 2.9995656],\n",
       "       [2.9995656, 2.9995656, 2.9995656, 2.9995656],\n",
       "       [2.9995656, 2.9995656, 2.9995656, 2.9995656]], dtype=float32)"
      ]
     },
     "execution_count": 16,
     "metadata": {},
     "output_type": "execute_result"
    }
   ],
   "source": [
    "np.log10(x)"
   ]
  },
  {
   "cell_type": "markdown",
   "id": "ddbab462",
   "metadata": {},
   "source": [
    "# Fibonnacci Series"
   ]
  },
  {
   "cell_type": "code",
   "execution_count": 20,
   "id": "082f8414",
   "metadata": {},
   "outputs": [],
   "source": [
    "n = 12\n",
    "x = np.zeros(n,np.int32)\n",
    "x[1]=1"
   ]
  },
  {
   "cell_type": "code",
   "execution_count": 21,
   "id": "35d05778",
   "metadata": {},
   "outputs": [
    {
     "data": {
      "text/plain": [
       "array([0, 1, 0, 0, 0, 0, 0, 0, 0, 0, 0, 0])"
      ]
     },
     "execution_count": 21,
     "metadata": {},
     "output_type": "execute_result"
    }
   ],
   "source": [
    "x"
   ]
  },
  {
   "cell_type": "code",
   "execution_count": 22,
   "id": "21a9be9d",
   "metadata": {
    "scrolled": false
   },
   "outputs": [
    {
     "name": "stdout",
     "output_type": "stream",
     "text": [
      "Fibonnacci[ 2 ] =  1\n",
      "Fibonnacci[ 3 ] =  2\n",
      "Fibonnacci[ 4 ] =  3\n",
      "Fibonnacci[ 5 ] =  5\n",
      "Fibonnacci[ 6 ] =  8\n",
      "Fibonnacci[ 7 ] =  13\n",
      "Fibonnacci[ 8 ] =  21\n",
      "Fibonnacci[ 9 ] =  34\n",
      "Fibonnacci[ 10 ] =  55\n",
      "Fibonnacci[ 11 ] =  89\n"
     ]
    }
   ],
   "source": [
    "for i in np.arange(2,n):\n",
    "    x[i] = x[i-2] + x[i-1]\n",
    "    print('Fibonnacci[',i,'] = ',x[i])"
   ]
  },
  {
   "cell_type": "markdown",
   "id": "bc281b06",
   "metadata": {},
   "source": [
    "# Recursion"
   ]
  },
  {
   "cell_type": "code",
   "execution_count": 23,
   "id": "bfe30fc9",
   "metadata": {},
   "outputs": [],
   "source": [
    "def fibo(i):\n",
    "    if (i<=1): \n",
    "        result = i\n",
    "    else:\n",
    "        result = fibo(i-2) + fibo(i-1)\n",
    "    return result"
   ]
  },
  {
   "cell_type": "code",
   "execution_count": 27,
   "id": "e0bba52f",
   "metadata": {},
   "outputs": [
    {
     "data": {
      "text/plain": [
       "2"
      ]
     },
     "execution_count": 27,
     "metadata": {},
     "output_type": "execute_result"
    }
   ],
   "source": [
    "fibo(3)"
   ]
  },
  {
   "cell_type": "code",
   "execution_count": 28,
   "id": "aef7c850",
   "metadata": {},
   "outputs": [
    {
     "data": {
      "text/plain": [
       "89"
      ]
     },
     "execution_count": 28,
     "metadata": {},
     "output_type": "execute_result"
    }
   ],
   "source": [
    "fibo(11)"
   ]
  },
  {
   "cell_type": "markdown",
   "id": "100c29e5",
   "metadata": {},
   "source": [
    "# Random Numbers"
   ]
  },
  {
   "cell_type": "code",
   "execution_count": 38,
   "id": "8a84d948",
   "metadata": {},
   "outputs": [
    {
     "data": {
      "text/plain": [
       "array([0.98255687, 0.77294104, 0.3892024 , 0.3734568 , 0.87508644])"
      ]
     },
     "execution_count": 38,
     "metadata": {},
     "output_type": "execute_result"
    }
   ],
   "source": [
    "np.random.uniform(0,1,5)"
   ]
  },
  {
   "cell_type": "code",
   "execution_count": 39,
   "id": "fda18386",
   "metadata": {},
   "outputs": [
    {
     "data": {
      "text/plain": [
       "array([13.58214409, 13.41466506, 11.20947945, 12.211797  , 10.06843167])"
      ]
     },
     "execution_count": 39,
     "metadata": {},
     "output_type": "execute_result"
    }
   ],
   "source": [
    "np.random.uniform(10,15,5)"
   ]
  },
  {
   "cell_type": "code",
   "execution_count": 40,
   "id": "600d7713",
   "metadata": {},
   "outputs": [
    {
     "data": {
      "text/plain": [
       "array([ 39.6176768 ,  28.54584975,  71.50396786,  39.93306305,\n",
       "       -15.55934598,  49.64870361,  67.68260563,  78.51731042,\n",
       "        82.43171065, 102.91800582,  95.30011515,  15.87675043,\n",
       "         1.95905965,  11.40036007,  27.25802555,  70.71071556,\n",
       "        69.5151506 , 107.59093105,  98.38872859,  34.93643777,\n",
       "        12.66922564,  74.62140314,  81.83816657, -13.90739102,\n",
       "        72.37101312])"
      ]
     },
     "execution_count": 40,
     "metadata": {},
     "output_type": "execute_result"
    }
   ],
   "source": [
    "np.random.seed(1923)\n",
    "x = np.random.uniform(-20,120,25)\n",
    "x"
   ]
  },
  {
   "cell_type": "code",
   "execution_count": 41,
   "id": "bb5ece4b",
   "metadata": {},
   "outputs": [
    {
     "data": {
      "text/plain": [
       "array([ 39,  28,  71,  39, -15,  49,  67,  78,  82, 102,  95,  15,   1,\n",
       "        11,  27,  70,  69, 107,  98,  34,  12,  74,  81, -13,  72])"
      ]
     },
     "execution_count": 41,
     "metadata": {},
     "output_type": "execute_result"
    }
   ],
   "source": [
    "x = x.astype(int)\n",
    "x"
   ]
  },
  {
   "cell_type": "code",
   "execution_count": 42,
   "id": "8a1f6ce7",
   "metadata": {},
   "outputs": [
    {
     "data": {
      "text/plain": [
       "array([ 79,  91,  16, -10, 119,  61,  28,  86, 115, 111,  69,  65,  85,\n",
       "         4,   7,  66,  29, -12,  58,   1,  12,  74, -12, 119,  84])"
      ]
     },
     "execution_count": 42,
     "metadata": {},
     "output_type": "execute_result"
    }
   ],
   "source": [
    "np.random.seed(1923)\n",
    "x = np.random.randint(-20,120,25)\n",
    "x"
   ]
  },
  {
   "cell_type": "code",
   "execution_count": 43,
   "id": "61260434",
   "metadata": {},
   "outputs": [
    {
     "data": {
      "text/plain": [
       "array([ 79,  91,  16,   0, 100,  61,  28,  86, 100, 100,  69,  65,  85,\n",
       "         4,   7,  66,  29,   0,  58,   1,  12,  74,   0, 100,  84])"
      ]
     },
     "execution_count": 43,
     "metadata": {},
     "output_type": "execute_result"
    }
   ],
   "source": [
    "x = np.clip(x,0,100)\n",
    "x"
   ]
  },
  {
   "cell_type": "code",
   "execution_count": 47,
   "id": "b98e9cbe",
   "metadata": {},
   "outputs": [
    {
     "data": {
      "text/plain": [
       "array([ 5,  4, 10,  5,  0,  6,  9, 12, 13, 21, 17,  2,  1,  2,  4, 10, 10,\n",
       "       24, 18,  4,  2, 11, 12,  0, 10])"
      ]
     },
     "execution_count": 47,
     "metadata": {},
     "output_type": "execute_result"
    }
   ],
   "source": [
    "np.random.seed(1923)\n",
    "x = np.random.exponential(10,25).astype(int)\n",
    "x"
   ]
  },
  {
   "cell_type": "code",
   "execution_count": 49,
   "id": "4587424e",
   "metadata": {},
   "outputs": [
    {
     "data": {
      "text/plain": [
       "24"
      ]
     },
     "execution_count": 49,
     "metadata": {},
     "output_type": "execute_result"
    }
   ],
   "source": [
    "np.random.seed(1923)\n",
    "np.random.exponential(10,25).astype(int).max()"
   ]
  },
  {
   "cell_type": "code",
   "execution_count": 51,
   "id": "a8f7f601",
   "metadata": {},
   "outputs": [
    {
     "data": {
      "text/plain": [
       "array([10,  4, 24, 13,  0,  5, 10, 18,  2,  6,  5,  2, 17,  4, 11,  2, 12,\n",
       "       10, 10,  1, 12,  0, 21,  4,  9])"
      ]
     },
     "execution_count": 51,
     "metadata": {},
     "output_type": "execute_result"
    }
   ],
   "source": [
    "np.random.shuffle(x)\n",
    "x"
   ]
  },
  {
   "cell_type": "markdown",
   "id": "0a61f2c0",
   "metadata": {},
   "source": [
    "# argmin & argmax"
   ]
  },
  {
   "cell_type": "code",
   "execution_count": 52,
   "id": "64527c36",
   "metadata": {},
   "outputs": [
    {
     "name": "stdout",
     "output_type": "stream",
     "text": [
      "Max x= 24  argmax= 2\n"
     ]
    }
   ],
   "source": [
    "print('Max x=',x.max(),' argmax=',np.argmax(x))"
   ]
  },
  {
   "cell_type": "code",
   "execution_count": 53,
   "id": "174a9b0b",
   "metadata": {},
   "outputs": [
    {
     "name": "stdout",
     "output_type": "stream",
     "text": [
      "Min x= 0  argmin= 4\n"
     ]
    }
   ],
   "source": [
    "print('Min x=',x.min(),' argmin=',np.argmin(x, axis=0))"
   ]
  },
  {
   "cell_type": "code",
   "execution_count": 54,
   "id": "6505f6f0",
   "metadata": {},
   "outputs": [
    {
     "data": {
      "text/plain": [
       "24"
      ]
     },
     "execution_count": 54,
     "metadata": {},
     "output_type": "execute_result"
    }
   ],
   "source": [
    "x[2]"
   ]
  },
  {
   "cell_type": "code",
   "execution_count": 55,
   "id": "43390649",
   "metadata": {},
   "outputs": [
    {
     "data": {
      "text/plain": [
       "24"
      ]
     },
     "execution_count": 55,
     "metadata": {},
     "output_type": "execute_result"
    }
   ],
   "source": [
    "x[np.argmax(x)]"
   ]
  },
  {
   "cell_type": "code",
   "execution_count": null,
   "id": "d7fc208a",
   "metadata": {},
   "outputs": [],
   "source": []
  }
 ],
 "metadata": {
  "kernelspec": {
   "display_name": "Python 3 (ipykernel)",
   "language": "python",
   "name": "python3"
  },
  "language_info": {
   "codemirror_mode": {
    "name": "ipython",
    "version": 3
   },
   "file_extension": ".py",
   "mimetype": "text/x-python",
   "name": "python",
   "nbconvert_exporter": "python",
   "pygments_lexer": "ipython3",
   "version": "3.8.12"
  }
 },
 "nbformat": 4,
 "nbformat_minor": 5
}
